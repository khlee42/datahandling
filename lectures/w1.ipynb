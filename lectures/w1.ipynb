{
 "cells": [
  {
   "cell_type": "markdown",
   "metadata": {
    "slideshow": {
     "slide_type": "slide"
    }
   },
   "source": [
    "# Intro"
   ]
  },
  {
   "cell_type": "markdown",
   "metadata": {
    "slideshow": {
     "slide_type": "slide"
    }
   },
   "source": [
    "# Instructor: Kyunghee Lee\n",
    "\n",
    "## Education\n",
    "PhD in Management Engineering, KAIST (2016)\n",
    "MS in Management Engineering, KAIST (2012)\n",
    "BS in Electrical Engineering, KAIST (2010)\n",
    "\n",
    "## Work\n",
    "Postdoc at McGill University (2016-2017)\n",
    "Assistant Professor at Wayne State University (2017-2023)\n",
    "Asssistant Professor at McGill University (2023-)\n",
    "\n",
    "## Research\n",
    "- Economic and sociental impacts of Information Technology\n",
    "- Decentralization of business models and organizations\n",
    "- Digital transformation of industries"
   ]
  },
  {
   "cell_type": "markdown",
   "metadata": {
    "slideshow": {
     "slide_type": "slide"
    }
   },
   "source": [
    "# How does Uber change our transportation habits?\n",
    "\n",
    "A bit of background\n",
    "\n",
    "## Data sources\n",
    "blah blah\n",
    "\n",
    "## Infrastructure\n",
    "\n",
    "## Analysis\n",
    "\n",
    "\n"
   ]
  },
  {
   "cell_type": "markdown",
   "metadata": {
    "slideshow": {
     "slide_type": "slide"
    }
   },
   "source": [
    "# ETL (Extract-Transform-Load) pipeline\n",
    "\n"
   ]
  },
  {
   "cell_type": "markdown",
   "metadata": {},
   "source": []
  }
 ],
 "metadata": {
  "language_info": {
   "name": "python"
  },
  "orig_nbformat": 4
 },
 "nbformat": 4,
 "nbformat_minor": 2
}
